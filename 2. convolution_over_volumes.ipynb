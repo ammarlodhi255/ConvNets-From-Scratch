{
 "cells": [
  {
   "cell_type": "code",
   "execution_count": 1,
   "metadata": {},
   "outputs": [],
   "source": [
    "import numpy as np "
   ]
  },
  {
   "cell_type": "code",
   "execution_count": 8,
   "metadata": {},
   "outputs": [],
   "source": [
    "img_matrix = np.array([\n",
    "    [\n",
    "        [10, 10, 10, 0, 0, 0],\n",
    "        [10, 10, 10, 0, 0, 0],\n",
    "        [10, 10, 10, 0, 0, 0],\n",
    "        [10, 10, 10, 0, 0, 0],\n",
    "        [10, 10, 10, 0, 0, 0],\n",
    "        [10, 10, 10, 0, 0, 0],\n",
    "    ], \n",
    "    [\n",
    "        [10, 10, 10, 0, 0, 0],\n",
    "        [10, 10, 10, 0, 0, 0],\n",
    "        [10, 10, 10, 0, 0, 0],\n",
    "        [10, 10, 10, 0, 0, 0],\n",
    "        [10, 10, 10, 0, 0, 0],\n",
    "        [10, 10, 10, 0, 0, 0],\n",
    "    ],\n",
    "    [\n",
    "        [10, 10, 10, 0, 0, 0],\n",
    "        [10, 10, 10, 0, 0, 0],\n",
    "        [10, 10, 10, 0, 0, 0],\n",
    "        [10, 10, 10, 0, 0, 0],\n",
    "        [10, 10, 10, 0, 0, 0],\n",
    "        [10, 10, 10, 0, 0, 0],\n",
    "    ]\n",
    "])\n",
    "\n",
    "ver_edge_filter = np.array([\n",
    "    [\n",
    "        [1, 0, -1],\n",
    "        [1, 0, -1],\n",
    "        [1, 0, -1]\n",
    "    ],\n",
    "    [\n",
    "        [1, 0, -1],\n",
    "        [1, 0, -1],\n",
    "        [1, 0, -1]\n",
    "    ],\n",
    "    [\n",
    "        [1, 0, -1],\n",
    "        [1, 0, -1],\n",
    "        [1, 0, -1]\n",
    "    ]])"
   ]
  },
  {
   "cell_type": "code",
   "execution_count": 11,
   "metadata": {},
   "outputs": [
    {
     "data": {
      "text/plain": [
       "array([[10, 10, 10],\n",
       "       [10, 10, 10],\n",
       "       [10, 10, 10]])"
      ]
     },
     "execution_count": 11,
     "metadata": {},
     "output_type": "execute_result"
    }
   ],
   "source": [
    "img_matrix[0, 0:3, 0:3]"
   ]
  },
  {
   "cell_type": "code",
   "execution_count": 15,
   "metadata": {},
   "outputs": [
    {
     "data": {
      "text/plain": [
       "array([[ 0., 90., 90.,  0.],\n",
       "       [ 0., 90., 90.,  0.],\n",
       "       [ 0., 90., 90.,  0.],\n",
       "       [ 0., 90., 90.,  0.]])"
      ]
     },
     "execution_count": 15,
     "metadata": {},
     "output_type": "execute_result"
    }
   ],
   "source": [
    "num_of_convs = img_matrix.shape[1] - ver_edge_filter.shape[1] + 1\n",
    "output = np.zeros((num_of_convs, num_of_convs))\n",
    "\n",
    "for row in range(num_of_convs):\n",
    "    for col in range(num_of_convs):\n",
    "        for channel in range(3):\n",
    "            patch = img_matrix[channel, row:ver_edge_filter.shape[1] + row, col:ver_edge_filter.shape[1] + col]\n",
    "            output[row, col] += np.sum(ver_edge_filter[channel] * patch)\n",
    "\n",
    "output"
   ]
  },
  {
   "cell_type": "code",
   "execution_count": null,
   "metadata": {},
   "outputs": [],
   "source": []
  }
 ],
 "metadata": {
  "kernelspec": {
   "display_name": "dev-env",
   "language": "python",
   "name": "python3"
  },
  "language_info": {
   "codemirror_mode": {
    "name": "ipython",
    "version": 3
   },
   "file_extension": ".py",
   "mimetype": "text/x-python",
   "name": "python",
   "nbconvert_exporter": "python",
   "pygments_lexer": "ipython3",
   "version": "3.11.7"
  }
 },
 "nbformat": 4,
 "nbformat_minor": 2
}
