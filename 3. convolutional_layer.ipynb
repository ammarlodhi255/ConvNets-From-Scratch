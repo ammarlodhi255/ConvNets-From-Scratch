{
 "cells": [
  {
   "cell_type": "code",
   "execution_count": 1,
   "metadata": {},
   "outputs": [],
   "source": [
    "import numpy as np "
   ]
  },
  {
   "cell_type": "code",
   "execution_count": 50,
   "metadata": {},
   "outputs": [],
   "source": [
    "img_matrix = np.array([\n",
    "    [\n",
    "        [10, 10, 10, 0, 0, 0],\n",
    "        [10, 10, 10, 0, 0, 0],\n",
    "        [10, 10, 10, 0, 0, 0],\n",
    "        [10, 10, 10, 0, 0, 0],\n",
    "        [10, 10, 10, 0, 0, 0],\n",
    "        [10, 10, 10, 0, 0, 0],\n",
    "    ], \n",
    "    [\n",
    "        [10, 10, 10, 0, 0, 0],\n",
    "        [10, 10, 10, 0, 0, 0],\n",
    "        [10, 10, 10, 0, 0, 0],\n",
    "        [10, 10, 10, 0, 0, 0],\n",
    "        [10, 10, 10, 0, 0, 0],\n",
    "        [10, 10, 10, 0, 0, 0],\n",
    "    ],\n",
    "    [\n",
    "        [10, 10, 10, 0, 0, 0],\n",
    "        [10, 10, 10, 0, 0, 0],\n",
    "        [10, 10, 10, 0, 0, 0],\n",
    "        [10, 10, 10, 0, 0, 0],\n",
    "        [10, 10, 10, 0, 0, 0],\n",
    "        [10, 10, 10, 0, 0, 0],\n",
    "    ]\n",
    "])\n",
    "\n",
    "img_matrix2 = np.array([\n",
    "    img_matrix[0].T, \n",
    "    img_matrix[1].T,\n",
    "    img_matrix[2].T,\n",
    "])\n",
    "\n",
    "\n",
    "ver_edge_filter = np.array([\n",
    "    [\n",
    "        [1, 0, -1],\n",
    "        [1, 0, -1],\n",
    "        [1, 0, -1]\n",
    "    ],\n",
    "    [\n",
    "        [1, 0, -1],\n",
    "        [1, 0, -1],\n",
    "        [1, 0, -1]\n",
    "    ],\n",
    "    [\n",
    "        [1, 0, -1],\n",
    "        [1, 0, -1],\n",
    "        [1, 0, -1]\n",
    "    ]])\n",
    "\n",
    "hor_edge_filter = np.array([\n",
    "    ver_edge_filter[0].T,\n",
    "    ver_edge_filter[1].T,\n",
    "    ver_edge_filter[2].T])"
   ]
  },
  {
   "cell_type": "code",
   "execution_count": 81,
   "metadata": {},
   "outputs": [],
   "source": [
    "def relu(x):\n",
    "    return max(0, x)\n",
    "\n",
    "def generate_bias_terms(num):\n",
    "    return np.random.random_sample((num, ))\n",
    "\n",
    "\n",
    "def conv(img, filters=[]):\n",
    "    n, f = img.shape[1], filters[0].shape[1]\n",
    "    n_l = n - f + 1\n",
    "    \n",
    "    output_feature_map = np.zeros((len(filters), n_l, n_l))\n",
    "    bias_terms = generate_bias_terms(len(filters))\n",
    "\n",
    "    for num_filter, _filter in enumerate(filters):\n",
    "        for row in range(n_l):\n",
    "            for col in range(n_l):\n",
    "                for channel in range(img.shape[0]):\n",
    "                    patch = img[channel, row:f+row, col:f+col]\n",
    "                    output_feature_map[num_filter, row, col] += np.sum(_filter * patch)\n",
    "\n",
    "                output_feature_map[num_filter, row, col] = relu(output_feature_map[num_filter, row, col] + bias_terms[num_filter])\n",
    "    \n",
    "    return output_feature_map"
   ]
  },
  {
   "cell_type": "code",
   "execution_count": 88,
   "metadata": {},
   "outputs": [
    {
     "data": {
      "text/plain": [
       "array([[[  0.45271574, 270.45271574, 270.45271574,   0.45271574],\n",
       "        [  0.45271574, 270.45271574, 270.45271574,   0.45271574],\n",
       "        [  0.45271574, 270.45271574, 270.45271574,   0.45271574],\n",
       "        [  0.45271574, 270.45271574, 270.45271574,   0.45271574]],\n",
       "\n",
       "       [[  0.81084672,   0.81084672,   0.81084672,   0.81084672],\n",
       "        [  0.81084672,   0.81084672,   0.81084672,   0.81084672],\n",
       "        [  0.81084672,   0.81084672,   0.81084672,   0.81084672],\n",
       "        [  0.81084672,   0.81084672,   0.81084672,   0.81084672]]])"
      ]
     },
     "execution_count": 88,
     "metadata": {},
     "output_type": "execute_result"
    }
   ],
   "source": [
    "conv(img_matrix, filters=[ver_edge_filter, hor_edge_filter])"
   ]
  },
  {
   "cell_type": "code",
   "execution_count": null,
   "metadata": {},
   "outputs": [],
   "source": []
  }
 ],
 "metadata": {
  "kernelspec": {
   "display_name": "dev-env",
   "language": "python",
   "name": "python3"
  },
  "language_info": {
   "codemirror_mode": {
    "name": "ipython",
    "version": 3
   },
   "file_extension": ".py",
   "mimetype": "text/x-python",
   "name": "python",
   "nbconvert_exporter": "python",
   "pygments_lexer": "ipython3",
   "version": "3.11.7"
  }
 },
 "nbformat": 4,
 "nbformat_minor": 2
}
